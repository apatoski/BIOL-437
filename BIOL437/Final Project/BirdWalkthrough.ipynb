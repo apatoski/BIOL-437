{
 "cells": [
  {
   "cell_type": "markdown",
   "metadata": {},
   "source": [
    "# Step 1: Download the files\n",
    "You should download all of the necessary files, based on your questions. Theunnisen and Mets each provide sample data sets that you could use. Xeno-Canto.org has an excellent resource of open source songs. If your data set is relatively small (<200 songs) you could consider doing this by hand. For todays walkthrough, you will just need SongD(KL) and BioSound.\n",
    "\n",
    "•\tDavid Mets. “\"SongD(KL), an automated approach to the quantitation of vocal  \n",
    "learning in the songbird\". https://journals.plos.org/ploscompbiol/article?id=10.1371/journal.pcbi.1006437&rev=2\n",
    "script1: https://doi.org/10.1371/journal.pcbi.1006437.s006\n",
    "script2: https://doi.org/10.1371/journal.pcbi.1006437.s007\n",
    "dataset: https://datadryad.org/resource/doi:10.5061/dryad.8tn4660\n",
    "\n",
    "•\tFrederic Theunnisen. “BioSound: a python library and notebooks to extract sound features for bio-acoustical analyses” https://github.com/theunissenlab/soundsig https://github.com/theunissenlab/BioSoundTutorial https://link.springer.com/article/10.1007%2Fs10071-015-0933-6\n",
    "  \n",
    "•\tTim Sainburg. “Generative modelling for birdsong: learning acoustic spaces for generating stimuli, labelling syllables, and visualizing sequences”. https://github.com/timsainb/AVGN\n",
    " \n",
    "•\tYarden Cohen. “Segmentation and annotation of birdsong with a hybrid recurrent-convolutional neural network”. https://github.com/yardencsGitHub/tweetynet  https://www.abstractsonline.com/pp8/#!/4649/presentation/32476\n"
   ]
  },
  {
   "cell_type": "markdown",
   "metadata": {},
   "source": [
    "# Step 2: Standardize File Formats\n",
    "You will need your song files to be in a folder of mono .wav files. That means you may need to convert them from .mp3 to .wav and from stereo to mono. We will do both below, starting with a quick loop to convert .mp3 to .wav\n",
    "\n",
    "NOTE: If you prefer, you can convert files using Audacity, using the \"Edit Chain\" and \"Apply Chain\" options under the File menu. "
   ]
  },
  {
   "cell_type": "code",
   "execution_count": null,
   "metadata": {},
   "outputs": [],
   "source": [
    "import subprocess\n",
    "\n",
    "# This is the command to convert song files. You can implement a loop for multiple files\n",
    "subprocess.call(['ffmpeg','-i','./songFiles/XC380406 - Night Parrot - Pezoporus occidentalis.mp3','./songFiles/nightParrot.wav'])"
   ]
  },
  {
   "cell_type": "markdown",
   "metadata": {},
   "source": [
    "Convert stereo to mono: "
   ]
  },
  {
   "cell_type": "code",
   "execution_count": null,
   "metadata": {},
   "outputs": [],
   "source": [
    "import os\n",
    "from scipy.io import wavfile\n",
    "\n",
    "\n",
    "in_dir = './Sorted/White_Rasberry/'\n",
    "out_dir = './Sorted_Mono/White_Rasberry/'\n",
    "\n",
    "files = os.listdir(in_dir)\n",
    "\n",
    "## GENERATE MONO FILE ##\n",
    "for filename in files:\n",
    "    source_wav = wave.open(in_dir + filename,'r')\n",
    "    params = source_wav.getparams()\n",
    "    fs, data = wavfile.read(in_dir + filename)\n",
    "    source_wav.close()\n",
    "    \n",
    "    out_wav = wave.open(out_dir + filename, 'w')\n",
    "    out_wav.setparams(params)\n",
    "    out_wav.setnchannels(1)\n",
    "    \n",
    "    # Here we're averaging the two. Depending on your files, it might be better to just pick one.\n",
    "    mono_data = data.sum(1) / 2 \n",
    "    out_wav.writeframes(mono_data)\n",
    "    out_wav.close()\n",
    "\n",
    "print('I did it!')\n"
   ]
  },
  {
   "cell_type": "markdown",
   "metadata": {},
   "source": [
    "You should now have a folder full of mono, .wav formatted songs. Let's do a quick visualization:"
   ]
  },
  {
   "cell_type": "code",
   "execution_count": 84,
   "metadata": {},
   "outputs": [
    {
     "name": "stderr",
     "output_type": "stream",
     "text": [
      "/anaconda3/lib/python3.6/site-packages/ipykernel_launcher.py:11: DeprecationWarning: Numeric-style type codes are deprecated and will result in an error in the future.\n",
      "  # This is added back by InteractiveShellApp.init_path()\n"
     ]
    },
    {
     "data": {
      "image/png": "[encoded data removed]",
      "text/plain": [
       "<Figure size 432x288 with 1 Axes>"
      ]
     },
     "metadata": {},
     "output_type": "display_data"
    }
   ],
   "source": [
    "## This is a very quick (and slightly dirty) way to plot a wav file\n",
    "%matplotlib inline \n",
    "\n",
    "import wave, pylab\n",
    "import sys, os\n",
    "from matplotlib import pyplot as plt\n",
    "\n",
    "# Set your file path below\n",
    "wav_file = './BOD.wav'  \n",
    "wav = wave.open(wav_file,'r')\n",
    "frames = wav.readframes(-1)\n",
    "sound_info = pylab.frombuffer(frames,'Int16')\n",
    "frame_rate = wav.getframerate()\n",
    "\n",
    "plt.plot(sound_info)\n",
    "#plt.savefig('BOD_wav.png')\n",
    "plt.show()"
   ]
  },
  {
   "cell_type": "markdown",
   "metadata": {},
   "source": [
    "That was just a wav plot, displaying sound pressure over time (or technically time bin), lets do a spectrogram below. We will also read the data in as an array using scipy, which will help if we want to do any additional analysis directly"
   ]
  },
  {
   "cell_type": "code",
   "execution_count": null,
   "metadata": {},
   "outputs": [],
   "source": [
    "# This is a good way to plot the spectrogram, and a slightly cleaner way to read in the data as an array for custom analysis.\n",
    "\n",
    "from scipy.signal import spectrogram\n",
    "import scipy.io.wavfile as wf\n",
    "import numpy as np\n",
    "\n",
    "frames,data = wf.read(wav_file)\n",
    "\n",
    "if len(np.shape(data)) == 2:\n",
    "    sound_info = data[:,0] #This checks if your file is stereo or mono and adjusts accordingly\n",
    "else:\n",
    "    sound_info = data\n",
    "\n",
    "# Set up your time bins so the plot looks nice\n",
    "ts = np.arange(len(sound_info)) / frames\n",
    "\n",
    "# Plot the wavform\n",
    "plt.plot(ts,sound_info)\n",
    "plt.show()\n",
    "\n",
    "#Build the spectrogram. Sxx is your data, t is the time bin labels, and f is the frequency bin labels\n",
    "f,t,Sxx = spectrogram(sound_info, frames)\n",
    "Sxx = np.flipud(Sxx) \n",
    "\n",
    "# The log transform will help for visualization, vmin is a high-pass amplitude filter to reduce background noise\n",
    "Sxx = np.log(Sxx) # This line is optional\n",
    "plt.imshow(Sxx,aspect='auto',vmin = 0) # You can change vmin to see what it does"
   ]
  },
  {
   "cell_type": "markdown",
   "metadata": {},
   "source": [
    "# Step 3: Get Song D(kl)\n",
    "Now we will implement David Mets's package on KL Divergence of song. (download above if you haven't yet)\n",
    "\n",
    "You need to know the numbers of syllables, which can be estimated using David Mets's Script 2, or you can count them by eye using the visualizations above. The instructions are in the file, but the syntax is as follows: \n",
    "\n",
    "python Song_D_KL_calc.py folder_with_songs_from_bird_1 folder_with_songs_from_bird_2 number_of_syllable_calsses_bird_1 number_of_syllable_classes_bird_2\n",
    "\n",
    "You could conceivably run this out of a jupyter notebook, but it would be better to just run it out of the terminal (check the python primer materials if you've forgotten how to do this). There are a couple dependencies for Song_D_KL_calc.py. You'll likely need to use conda and/or pip to install them. The only one I didn't have already was mahotas, but David indicates that it's optional. Comment it out and uncomment the indicated line that replaces it in the file, or just install it. "
   ]
  },
  {
   "cell_type": "markdown",
   "metadata": {},
   "source": [
    "# Step 4: Run the BioSound Jupyter notebooks\n",
    "\n",
    "Download and run Fred Theeunnisen's very nice jupyter notebooks, they explain everything that you will do. You could use the output from this package to build a clustering algorithm, for example. "
   ]
  },
  {
   "cell_type": "markdown",
   "metadata": {},
   "source": [
    "# Step 5: Perform your analysis\n",
    "\n",
    "The above scripts provide several different metrics which you can then analyze in the way that seems most reasonable to you and your question. You can also incorporate phylogenetic data from BirdTree.org "
   ]
  },
  {
   "cell_type": "markdown",
   "metadata": {},
   "source": [
    "# Step Z: Scrape Xeno-Canto:\n",
    "\n",
    "CAVEAT: Scraping a website can put a lot of strain on their server. Don't just run a for loop and try to download the entire database all at once as you may crash the server, and you don't want to run afoul of a bunch of birders. Add delays between the download, and consider which songs you actually need to download (this will also make things easier for you in storing and processing the data). \n",
    "\n",
    "We'll use the python package BeautifulSoup to download links. (You may have to install this also) The Chrome \"Inspect\" option is also useful here to get a sense of what we're looking for. We'll need to decide which birds we're using, and then identify and download the link. Let's try this first for a single page: https://www.xeno-canto.org/species/Emberiza-pusilla\n",
    "\n",
    "If we inspect the first listing, we can see that the download link is coded as follows (including both the sound file and the image link:"
   ]
  },
  {
   "cell_type": "raw",
   "metadata": {},
   "source": [
    "<a download=\"XC440932 - Little Bunting - Emberiza pusilla.mp3\" href=\"/440932/download\"><img class=\"icon\" src=\"/static/img/download.png\" width=\"14\" height=\"14\" title=\"Download file 'XC440932-2018-11-01 Dwerggors 1.mp3'\"></a>"
   ]
  },
  {
   "cell_type": "markdown",
   "metadata": {},
   "source": [
    "There may be other download links scattered around that we don't want, so we may want to look for both, and download everything that matches. "
   ]
  },
  {
   "cell_type": "code",
   "execution_count": null,
   "metadata": {},
   "outputs": [],
   "source": [
    "from bs4 import BeautifulSoup, SoupStrainer\n",
    "import requests, sys\n",
    "import time, random\n",
    "\n",
    "\n",
    "# We can do this with an html file we download, which is what I did because I was about to board a plane\n",
    "#test_file = open('./Little Bunting (Emberiza pusilla) __ xeno-canto.html','r') \n",
    "#strained_soup = BeautifulSoup(test_file, 'html.parser', parse_only=SoupStrainer('a'))\n",
    "\n",
    "# We will first request our page, and process it into an object python can handle\n",
    "test_link = 'https://www.xeno-canto.org/species/Emberiza-pusilla'\n",
    "test_page = requests.get(test_link)\n",
    "\n",
    "## This line spits out a nice object where each element is a line of html code, already quite filtered\n",
    "strained_soup = BeautifulSoup(test_page.text,'html.parser',parse_only=SoupStrainer('a'))\n",
    "\n",
    "# Now we walk through our lines of html, check for download links, and download and save them\n",
    "\n",
    "# First just a print statement to see what we'll be getting, then uncomment out the rest to actually download the links.\n",
    "for line in strained_soup:\n",
    "    if line.has_attr('download'):\n",
    "        #print('grabbing:',line)\n",
    "        mylink = line['href']\n",
    "        print(line)\n",
    "        \"\"\"\n",
    "        r = requests.get(line['href'])\n",
    "        with open(line['download'], 'wb') as f:\n",
    "            f.write(r.content)\n",
    "        sleep_time = random.randrange(2,4)\n",
    "        #print('mp3 saved, sleeping for ',sleep_time)\n",
    "        time.sleep(sleep_time)\n",
    "        \"\"\"\n",
    "   "
   ]
  },
  {
   "cell_type": "markdown",
   "metadata": {},
   "source": [
    "Now we can loop through all the pages for a species. You could be clever here to make your data cleaner, for example, you could check the quality of recording and only download 'A' rated songs, or you could check the time, and only download songs < 1 minute. Or you could record all the songs from the morning and compare them to songs from the afternoon. Think hard about what your actual question is here and whether the data you're downloading is what you need, then make changes accordingly. "
   ]
  },
  {
   "cell_type": "code",
   "execution_count": 86,
   "metadata": {},
   "outputs": [
    {
     "name": "stdout",
     "output_type": "stream",
     "text": [
      "working on page 1\n",
      "working on page 2\n",
      "working on page 3\n",
      "working on page 4\n",
      "working on page 5\n"
     ]
    }
   ],
   "source": [
    "species = 'Emberiza-pusilla'\n",
    "pages = 6\n",
    "\n",
    "#Function to download all the links on a page\n",
    "def download_links(page_link):\n",
    "    page_object = requests.get(page_link)\n",
    "    strained_soup = BeautifulSoup(page_object.text, 'html.parser', parse_only=SoupStrainer('a'))\n",
    "    for line in strained_soup:\n",
    "        if line.has_attr('download'):\n",
    "            #print('grabbing:',line)\n",
    "            if 'https' in line['href']:\n",
    "                download_link = line['href']\n",
    "            else:\n",
    "                download_link = 'https://www.xeno-canto.org' + line['href']\n",
    "            #r = requests.get(line['href'])\n",
    "            r = requests.get(download_link) \n",
    "            with open(line['download'], 'wb') as f: # You might want to put this in a specific file or something. \n",
    "                f.write(r.content) \n",
    "            sleep_time = random.randrange(2,7)\n",
    "            # We set up a delay between each download.\n",
    "            # 7 sec is probably very conservative, but I don't know what this site can handle\n",
    "            #print('mp3 saved, sleeping for ',sleep_time)\n",
    "            time.sleep(sleep_time) \n",
    "\n",
    "# Now we just loop through each page. Easy peasy.\n",
    "for p in range(pages):\n",
    "    print('working on page',p)\n",
    "    page = str(p + 1)\n",
    "    page_link = 'https://www.xeno-canto.org/species/' + species + '?pg=' + page\n",
    "    download_links(page_link)\n",
    "    time.sleep(1)\n",
    "    \n",
    "\n",
    "\n"
   ]
  },
  {
   "cell_type": "code",
   "execution_count": null,
   "metadata": {},
   "outputs": [],
   "source": []
  }
 ],
 "metadata": {
  "kernelspec": {
   "display_name": "Python 3",
   "language": "python",
   "name": "python3"
  },
  "language_info": {
   "codemirror_mode": {
    "name": "ipython",
    "version": 3
   },
   "file_extension": ".py",
   "mimetype": "text/x-python",
   "name": "python",
   "nbconvert_exporter": "python",
   "pygments_lexer": "ipython3",
   "version": "3.6.5"
  }
 },
 "nbformat": 4,
 "nbformat_minor": 2
}
